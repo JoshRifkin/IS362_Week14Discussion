{
 "cells": [
  {
   "cell_type": "markdown",
   "metadata": {},
   "source": [
    "<h1>LinkedIn Recommender System</h1>"
   ]
  },
  {
   "cell_type": "markdown",
   "metadata": {},
   "source": [
    "<h2>Scenario Design Analysis</h2>\n",
    "<p><b>Who are your target users?</b><br>\n",
    "     LinkedIn's targeted users are professionals working in any job or industry.<br><br>\n",
    "    <b>What are your users' key goals?</b><br>\n",
    "    The main goal of LinkedIn is to \"connect\" different users to allow workers to network with people all across the industry. Helping them meet people, find jobs, and get work done.<br><br>\n",
    "    <b>How can we help the users accomplish their goals?</b><br>\n",
    "    By offering a social media platform with a business oriented focus we can facilitate users' relationships and help them connect with people they know, meet new users, and connect with companies that interest them.\n",
    "</p>"
   ]
  },
  {
   "cell_type": "markdown",
   "metadata": {},
   "source": [
    "<h2>Reverse Engineer What You Can About the Site</h2>\n",
    "<p>In an article describing the differences between their recommender system and others, LinkedIn describes what makes their system special. They discuss how in traditional search and recommendation systems the algorithms focus on how relevant an item is for the given query. LinkedIn, on the other hand, seeks relevance from both sides. Meaning, they will not show recommendations without interest being shown by both sides.<br>\n",
    "    <a>https://engineering.linkedin.com/blog/2019/04/ai-behind-linkedin-recruiter-search-and-recommendation-systems</a></p>"
   ]
  },
  {
   "cell_type": "markdown",
   "metadata": {},
   "source": [
    "<h2>Recommendations to Improve</h2>\n",
    "<p>\n",
    "    The only recommendations that I can immediately think of would be stronger spam filters and more accurate job recommendations. That being said, the platform is enormously popular because it works and it does it's job well. Compared to many, many other platforms that have attempted to fill similar niches, LinkedIn does a tremendous job.\n",
    "</p>"
   ]
  }
 ],
 "metadata": {
  "kernelspec": {
   "display_name": "Python 3",
   "language": "python",
   "name": "python3"
  },
  "language_info": {
   "codemirror_mode": {
    "name": "ipython",
    "version": 3
   },
   "file_extension": ".py",
   "mimetype": "text/x-python",
   "name": "python",
   "nbconvert_exporter": "python",
   "pygments_lexer": "ipython3",
   "version": "3.8.3"
  }
 },
 "nbformat": 4,
 "nbformat_minor": 4
}
